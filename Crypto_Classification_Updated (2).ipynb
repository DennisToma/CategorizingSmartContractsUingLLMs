{
 "cells": [
  {
   "cell_type": "markdown",
   "id": "5d6a733d",
   "metadata": {},
   "source": [
    "### Step 1: Model Selection for Embeddings"
   ]
  },
  {
   "cell_type": "code",
   "execution_count": null,
   "id": "f6fe7eb8",
   "metadata": {},
   "outputs": [],
   "source": [
    "\n",
    "from transformers import AutoTokenizer, AutoModel\n",
    "import torch\n",
    "\n",
    "# Load models and tokenizers\n",
    "source_code_model = AutoModel.from_pretrained(\"microsoft/codebert-base\")\n",
    "source_code_tokenizer = AutoTokenizer.from_pretrained(\"microsoft/codebert-base\")\n",
    "\n",
    "bytecode_model = AutoModel.from_pretrained(\"distilbert-base-uncased\")\n",
    "bytecode_tokenizer = AutoTokenizer.from_pretrained(\"distilbert-base-uncased\")\n",
    "\n",
    "def get_embeddings(text, model, tokenizer):\n",
    "    inputs = tokenizer(text, return_tensors=\"pt\", truncation=True, padding=True, max_length=512)\n",
    "    with torch.no_grad():\n",
    "        outputs = model(**inputs)\n",
    "    return outputs.last_hidden_state.mean(dim=1)\n",
    "    "
   ]
  },
  {
   "cell_type": "markdown",
   "id": "82fa50ea",
   "metadata": {},
   "source": [
    "### Step 2: Generate Embeddings"
   ]
  },
  {
   "cell_type": "code",
   "execution_count": null,
   "id": "9582dfcf",
   "metadata": {},
   "outputs": [],
   "source": [
    "\n",
    "# Load the dataset\n",
    "train_df = train_set.to_pandas()\n",
    "\n",
    "# Example usage for source code embeddings\n",
    "train_df['source_code_embedding'] = train_df['source_code'].apply(lambda x: get_embeddings(x, source_code_model, source_code_tokenizer).numpy())\n",
    "\n",
    "# Example usage for bytecode embeddings\n",
    "train_df['bytecode_embedding'] = train_df['bytecode'].apply(lambda x: get_embeddings(x, bytecode_model, bytecode_tokenizer).numpy())\n"
   ]
  },
  {
   "cell_type": "markdown",
   "id": "82e2b68e",
   "metadata": {},
   "source": [
    "### Step 3: Clustering"
   ]
  },
  {
   "cell_type": "code",
   "execution_count": null,
   "id": "fb31ac5d",
   "metadata": {},
   "outputs": [],
   "source": [
    "\n",
    "from sklearn.cluster import KMeans\n",
    "import numpy as np\n",
    "\n",
    "# Combine embeddings for clustering\n",
    "embeddings = np.vstack([np.concatenate([row['source_code_embedding'], row['bytecode_embedding']]) for _, row in train_df.iterrows()])\n",
    "\n",
    "# Perform clustering\n",
    "kmeans = KMeans(n_clusters=5, random_state=0).fit(embeddings)\n",
    "train_df['cluster'] = kmeans.labels_\n",
    "\n",
    "# Display cluster assignments\n",
    "print(train_df[['address', 'cluster']])\n"
   ]
  }
 ],
 "metadata": {
  "kernelspec": {
   "display_name": "Python 3 (ipykernel)",
   "language": "python",
   "name": "python3"
  },
  "language_info": {
   "codemirror_mode": {
    "name": "ipython",
    "version": 3
   },
   "file_extension": ".py",
   "mimetype": "text/x-python",
   "name": "python",
   "nbconvert_exporter": "python",
   "pygments_lexer": "ipython3",
   "version": "3.11.7"
  }
 },
 "nbformat": 4,
 "nbformat_minor": 5
}
